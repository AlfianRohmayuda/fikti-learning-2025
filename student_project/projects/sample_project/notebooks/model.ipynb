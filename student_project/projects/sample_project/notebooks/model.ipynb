{
  "cells": [
    {
      "cell_type": "markdown",
      "metadata": {
        "id": "RbXOhqmNM4J9"
      },
      "source": [
        "# Project Guideline\n",
        "\n",
        "Hi teman-teman! Silakan menggunakan template notebook ini untuk mengerjakan projectmu.\n",
        "\n",
        "<br>\n",
        "\n",
        "**Informasi tambahan,**\n",
        "1. Copy notebook ini untuk mulai mengerjakan Projectmu.\n",
        "2. Kamu bebas untuk menambahkan cell pada notebook."
      ]
    },
    {
      "cell_type": "markdown",
      "metadata": {
        "id": "yIwc7uVMNsgo"
      },
      "source": [
        "## Data Understanding\n",
        "\n",
        "Menjelajahi struktur dan karakteristik dari sebuah data."
      ]
    },
    {
      "cell_type": "markdown",
      "metadata": {
        "id": "O08pIuSQTWLl"
      },
      "source": [
        "Menulis kode untuk mengkoneksikan notebook ke Google Drive"
      ]
    },
    {
      "cell_type": "code",
      "execution_count": null,
      "metadata": {
        "id": "aAct0PnWM3zG"
      },
      "outputs": [],
      "source": []
    },
    {
      "cell_type": "markdown",
      "metadata": {
        "id": "yeUKz9g2TW3r"
      },
      "source": [
        "Memasukkan library yang akan kamu gunakan"
      ]
    },
    {
      "cell_type": "code",
      "execution_count": null,
      "metadata": {
        "id": "_6SC20s9SeK7"
      },
      "outputs": [],
      "source": []
    },
    {
      "cell_type": "markdown",
      "metadata": {
        "id": "X2Dqv6AQTZhB"
      },
      "source": [
        "Mengambil file .csv dari Google Drive kamu."
      ]
    },
    {
      "cell_type": "code",
      "execution_count": null,
      "metadata": {
        "id": "MN3LxBEQTaBg"
      },
      "outputs": [],
      "source": []
    },
    {
      "cell_type": "code",
      "execution_count": null,
      "metadata": {
        "id": "HK3CcQuYTaOW"
      },
      "outputs": [],
      "source": []
    },
    {
      "cell_type": "markdown",
      "metadata": {
        "id": "WMezuFqoNt_e"
      },
      "source": [
        "## Data Cleaning\n",
        "\n",
        "Menangani nilai yang hilang, outlier, dan mempersiapkan variabel."
      ]
    },
    {
      "cell_type": "code",
      "execution_count": null,
      "metadata": {
        "id": "dQvyUWaLs9rM"
      },
      "outputs": [],
      "source": []
    },
    {
      "cell_type": "code",
      "execution_count": null,
      "metadata": {
        "id": "kQH0nqB0Sd6e"
      },
      "outputs": [],
      "source": []
    },
    {
      "cell_type": "markdown",
      "metadata": {
        "id": "qJvTWN5FNufH"
      },
      "source": [
        "## Exploratory Data Analysis\n",
        "\n",
        "Memvisualisasikan hubungan, distribusi data, dan lain sebagainya."
      ]
    },
    {
      "cell_type": "code",
      "execution_count": null,
      "metadata": {
        "id": "aVPYTG8GRJqe"
      },
      "outputs": [],
      "source": []
    },
    {
      "cell_type": "code",
      "execution_count": null,
      "metadata": {
        "id": "LqQ25_ORSdlE"
      },
      "outputs": [],
      "source": []
    },
    {
      "cell_type": "markdown",
      "metadata": {
        "id": "1ZeZ8trQNvFB"
      },
      "source": [
        "## Data Preparation\n",
        "\n",
        "Memisahkan data training dan testing"
      ]
    },
    {
      "cell_type": "code",
      "execution_count": null,
      "metadata": {
        "id": "4tyT5mTONvwl"
      },
      "outputs": [],
      "source": []
    },
    {
      "cell_type": "code",
      "execution_count": null,
      "metadata": {
        "id": "Ivt_Csw1SdSi"
      },
      "outputs": [],
      "source": []
    },
    {
      "cell_type": "markdown",
      "metadata": {
        "id": "A6t4xQzHRSH-"
      },
      "source": [
        "## Model Building\n",
        "\n",
        "Membuat regresi linier pada. Silakan mengeksplorasi dataset kamu terlebih dahulu dengan berbagai kombinasi prediktor."
      ]
    },
    {
      "cell_type": "code",
      "execution_count": null,
      "metadata": {
        "id": "nlh_RrkjR7Nw"
      },
      "outputs": [],
      "source": []
    },
    {
      "cell_type": "code",
      "execution_count": null,
      "metadata": {
        "id": "52AewiX1Sc7F"
      },
      "outputs": [],
      "source": []
    },
    {
      "cell_type": "markdown",
      "metadata": {
        "id": "meXWqM10R7ko"
      },
      "source": [
        "## Evaluation\n",
        "\n",
        "Melakukan evaluasi model yang telah dibuat menggunakan plot dan metrik evaluasi, serta tambahkan interpretasi hasilnya."
      ]
    },
    {
      "cell_type": "code",
      "execution_count": null,
      "metadata": {
        "id": "RG6_o2MuSUdS"
      },
      "outputs": [],
      "source": []
    },
    {
      "cell_type": "code",
      "execution_count": null,
      "metadata": {
        "id": "NeNQrXtgScmr"
      },
      "outputs": [],
      "source": []
    }
  ],
  "metadata": {
    "colab": {
      "provenance": [],
      "toc_visible": true
    },
    "kernelspec": {
      "display_name": "Python 3",
      "name": "python3"
    },
    "language_info": {
      "name": "python"
    }
  },
  "nbformat": 4,
  "nbformat_minor": 0
}
